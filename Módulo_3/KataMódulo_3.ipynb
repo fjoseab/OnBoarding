{
 "cells": [
  {
   "cell_type": "markdown",
   "metadata": {},
   "source": [
    "## Problema 1\n",
    " Escribe una lógica condicional que imprima una advertencia si un asteroide se acerca a la Tierra demasiado rápido."
   ]
  },
  {
   "cell_type": "code",
   "execution_count": null,
   "metadata": {},
   "outputs": [],
   "source": [
    "vel_asteroide = 49\n",
    "if vel_asteroide > 25:\n",
    "    print('PELIGRO UN ASTEROIDE SE ACERCA')\n",
    "else:\n",
    "    print('EL ASTEROIDE NO REPRESENTA PROBLEMA ALGUNO')"
   ]
  },
  {
   "cell_type": "markdown",
   "metadata": {},
   "source": [
    "## Problema 2\n",
    "Escribe la lógica condicional que usa declaraciones if, else, y elif para alertar a las personas de todo el mundo que deben buscar un asteroide en el cielo."
   ]
  },
  {
   "cell_type": "code",
   "execution_count": null,
   "metadata": {},
   "outputs": [],
   "source": [
    "vel_asteroide = 19\n",
    "if vel_asteroide >= 20:\n",
    "    print('Un asteroide se puede ver en el cielo')\n",
    "else:\n",
    "    print('El asteroide NO se puede ver en el cielo')"
   ]
  },
  {
   "cell_type": "markdown",
   "metadata": {},
   "source": [
    "## Problema 3\n",
    "Escribe un programa que emita la advertencia o información correcta a la gente de la Tierra, según la velocidad y el tamaño de un asteroide."
   ]
  },
  {
   "cell_type": "code",
   "execution_count": null,
   "metadata": {},
   "outputs": [],
   "source": [
    "vel_asteroide = 20\n",
    "tam_asteroide = 35\n",
    "if vel_asteroide > 25 and tam_asteroide > 25:\n",
    "    print('PELIGRO UN ASTEROIDE SE ACERCA')\n",
    "elif vel_asteroide >= 20 and vel_asteroide < 25 and tam_asteroide < 25:\n",
    "    print('Un asteroide se puede ver en el cielo')\n",
    "elif vel_asteroide > 25 or tam_asteroide > 25:\n",
    "    print('PELIGRO UN ASTEROIDE SE ACERCA y podria cuasar daños')\n",
    "else:\n",
    "    print('Nada que ver aquí')"
   ]
  }
 ],
 "metadata": {
  "interpreter": {
   "hash": "b7bb83007995c7a14e1854c2f9a0dca32734cadda2ae62acd5bccc867983709f"
  },
  "kernelspec": {
   "display_name": "Python 3.10.2 64-bit",
   "language": "python",
   "name": "python3"
  },
  "language_info": {
   "codemirror_mode": {
    "name": "ipython",
    "version": 3
   },
   "file_extension": ".py",
   "mimetype": "text/x-python",
   "name": "python",
   "nbconvert_exporter": "python",
   "pygments_lexer": "ipython3",
   "version": "3.10.2"
  },
  "orig_nbformat": 4
 },
 "nbformat": 4,
 "nbformat_minor": 2
}
