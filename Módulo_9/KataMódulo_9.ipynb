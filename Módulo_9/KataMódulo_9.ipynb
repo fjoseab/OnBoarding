{
 "cells": [
  {
   "cell_type": "markdown",
   "metadata": {},
   "source": [
    "## Problema 1\n",
    "Trabajar con argumentos en funciones"
   ]
  },
  {
   "cell_type": "markdown",
   "metadata": {},
   "source": [
    "Comienza por crear una función que necesite tres lecturas de combustible y devuelva un informe"
   ]
  },
  {
   "cell_type": "code",
   "execution_count": null,
   "metadata": {},
   "outputs": [],
   "source": [
    "def reporte(tanque1, tanque2, tanque3):\n",
    "    prom_combustible = (tanque1 + tanque2 + tanque3) / 3\n",
    "    return f\"\"\"\n",
    "    Reporte de combustible\n",
    "    Tanque 1: {tanque1} % de combustible\n",
    "    Tanque 2: {tanque2} % de combustible\n",
    "    Tanque 3: {tanque3} % de combustible \n",
    "    Promedio de los tres tanques: {prom_combustible} % de combustible\n",
    "    \"\"\""
   ]
  },
  {
   "cell_type": "markdown",
   "metadata": {},
   "source": [
    "Llamamos a la función que genera el reporte"
   ]
  },
  {
   "cell_type": "code",
   "execution_count": null,
   "metadata": {},
   "outputs": [],
   "source": [
    "\n",
    "print(reporte(30,45,80))"
   ]
  },
  {
   "cell_type": "markdown",
   "metadata": {},
   "source": [
    "Nueva función para que el promedio se pueda hacer de forma independiente"
   ]
  },
  {
   "cell_type": "code",
   "execution_count": null,
   "metadata": {},
   "outputs": [],
   "source": [
    "def promedio(valores_com):\n",
    "    promedio = sum(valores_com)/len(valores_com)\n",
    "    return promedio"
   ]
  },
  {
   "cell_type": "markdown",
   "metadata": {},
   "source": [
    "Ahora actualiza la función de informes para llamar a la nueva función del promedio"
   ]
  },
  {
   "cell_type": "code",
   "execution_count": null,
   "metadata": {},
   "outputs": [],
   "source": [
    "def reporte_actualizado(tanque1, tanque2, tanque3):\n",
    "    return f\"\"\"\n",
    "    Reporte de combustible\n",
    "    Tanque 1: {tanque1} % de combustible\n",
    "    Tanque 2: {tanque2} % de combustible\n",
    "    Tanque 3: {tanque3} % de combustible \n",
    "    Promedio de los tres tanques: {promedio([tanque1, tanque2, tanque3])} % de combustible\n",
    "    \"\"\"\n",
    "\n",
    "print (reporte_actualizado(50,10,90))"
   ]
  },
  {
   "cell_type": "markdown",
   "metadata": {},
   "source": [
    "## Problema 2\n",
    "Trabajo con argumentos de palabra clave"
   ]
  },
  {
   "cell_type": "markdown",
   "metadata": {},
   "source": [
    "Función con un informe preciso de la misión. Considera hora de prelanzamiento, tiempo de vuelo, destino, tanque externo y tanque interno"
   ]
  },
  {
   "cell_type": "code",
   "execution_count": null,
   "metadata": {},
   "outputs": [],
   "source": [
    "def reporte_mision(prelanzamiento_hora, tiempo_vuelo, destino, tanque_externo, tanque_interno):\n",
    "    return f\"\"\"\n",
    "    Reporte de mision\n",
    "    Hora de prelanzamiento: {prelanzamiento_hora}\n",
    "    Tiempo de vuelo: {tiempo_vuelo} minutos\n",
    "    Destino: {destino}\n",
    "    Combustible en el tanque externo: {tanque_externo} galones\n",
    "    Combustible en el tanque interno: {tanque_interno} galones\n",
    "    Total de combustible: {tanque_externo+tanque_interno} galones\n",
    "    \"\"\"\n",
    "\n",
    "print(reporte_mision(1, 120, \"Marte\", 800000, 900000))"
   ]
  },
  {
   "cell_type": "markdown",
   "metadata": {},
   "source": [
    "La función es problemática porque no se puede adaptar para minutos adicionales o tanques adicionales de combustible. Hazlo más flexible permitiendo cualquier número de pasos basados en el tiempo y cualquier número de tanques. En lugar de usar *args y **kwargs, aprovecha el hecho de que puedes usar cualquier nombre que desees. Asegurate que la función sea más legible mediante el uso de nombres de variables que están asociados con las entradas, como *minutes y **fuel_reservoirs"
   ]
  },
  {
   "cell_type": "code",
   "execution_count": null,
   "metadata": {},
   "outputs": [],
   "source": [
    "def reporteNuevo_mision(prelanzamiento_hora,  destino, *tiempos_vuelo, **tanques_combustible):\n",
    "    reporte=f\"\"\"\n",
    "    Reporte de mision\n",
    "    Hora de prelanzamiento: {prelanzamiento_hora}\n",
    "    Tiempo de vuelo: {sum(tiempos_vuelo)} minutos\n",
    "    Destino: {destino} \n",
    "    \"\"\"\n",
    "    total_combustible=0\n",
    "    for i,j in tanques_combustible.items():\n",
    "        reporte += f\"\"\"Combustible en el tanque {i} : {j} galones \\n\"\"\"\n",
    "        total_combustible+=j\n",
    "    reporte += f\"\"\"Total de combustible: \"\"\"+str(total_combustible)+\" galones \\n\"\n",
    "    return reporte\n",
    "\n",
    "print(reporteNuevo_mision(1,\"Marte\", 120,12,12, externo=800000, interno=900000))"
   ]
  }
 ],
 "metadata": {
  "interpreter": {
   "hash": "b7bb83007995c7a14e1854c2f9a0dca32734cadda2ae62acd5bccc867983709f"
  },
  "kernelspec": {
   "display_name": "Python 3.10.2 64-bit",
   "language": "python",
   "name": "python3"
  },
  "language_info": {
   "codemirror_mode": {
    "name": "ipython",
    "version": 3
   },
   "file_extension": ".py",
   "mimetype": "text/x-python",
   "name": "python",
   "nbconvert_exporter": "python",
   "pygments_lexer": "ipython3",
   "version": "3.10.2"
  },
  "orig_nbformat": 4
 },
 "nbformat": 4,
 "nbformat_minor": 2
}
